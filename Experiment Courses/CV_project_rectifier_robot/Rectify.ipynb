{
 "cells": [
  {
   "cell_type": "markdown",
   "metadata": {},
   "source": [
    "<center><img src=\"../图片数据/logo.png\" alt=\"Header\" style=\"width: 800px;\"/></center>"
   ]
  },
  {
   "cell_type": "markdown",
   "metadata": {},
   "source": [
    "@Copyright (C): 2010-2019, Shenzhen Yahboom Tech  \n",
    "@Author: Malloy.Yuan  \n",
    "@Date: 2019-07-17 10:10:02  \n",
    "@LastEditors: Malloy.Yuan  \n",
    "@LastEditTime: 2019-09-17 17:54:19  "
   ]
  },
  {
   "cell_type": "markdown",
   "metadata": {},
   "source": [
    "## 导入相关包，创建相机实例"
   ]
  },
  {
   "cell_type": "code",
   "execution_count": 1,
   "metadata": {},
   "outputs": [],
   "source": [
    "from jetbot import Camera\n",
    "from jetbot import bgr8_to_jpeg\n",
    "import PID\n",
    "camera = Camera.instance(width=720, height=720)"
   ]
  },
  {
   "cell_type": "code",
   "execution_count": null,
   "metadata": {},
   "outputs": [],
   "source": []
  },
  {
   "cell_type": "markdown",
   "metadata": {},
   "source": [
    "## 创建相关控制变量"
   ]
  },
  {
   "cell_type": "code",
   "execution_count": 2,
   "metadata": {},
   "outputs": [],
   "source": [
    "global face_x, face_y, face_w, face_h\n",
    "face_x = face_y = face_w = face_h = 0\n",
    "global target_valuex\n",
    "target_valuex = 2100\n",
    "global target_valuey\n",
    "target_valuey = 2048"
   ]
  },
  {
   "cell_type": "markdown",
   "metadata": {},
   "source": [
    "## 创建PID控制实例"
   ]
  },
  {
   "cell_type": "code",
   "execution_count": 3,
   "metadata": {},
   "outputs": [],
   "source": [
    "xservo_pid = PID.PositionalPID(1.9, 0.3, 0.35)\n",
    "yservo_pid = PID.PositionalPID(1.5, 0.2, 0.3)"
   ]
  },
  {
   "cell_type": "markdown",
   "metadata": {},
   "source": [
    "## 创建云台总线舵机实例"
   ]
  },
  {
   "cell_type": "code",
   "execution_count": 4,
   "metadata": {},
   "outputs": [
    {
     "name": "stdout",
     "output_type": "stream",
     "text": [
      "[sudo] password for jetbot: "
     ]
    }
   ],
   "source": [
    "!echo 'yahboom' | sudo -S chmod 777 /dev/ttyTHS1"
   ]
  },
  {
   "cell_type": "code",
   "execution_count": 5,
   "metadata": {},
   "outputs": [
    {
     "name": "stdout",
     "output_type": "stream",
     "text": [
      "serial Open!\n"
     ]
    }
   ],
   "source": [
    "\n",
    "from servoserial import ServoSerial\n",
    "servo_device = ServoSerial() "
   ]
  },
  {
   "cell_type": "markdown",
   "metadata": {},
   "source": [
    "## 创建显示控件"
   ]
  },
  {
   "cell_type": "code",
   "execution_count": 6,
   "metadata": {},
   "outputs": [
    {
     "data": {
      "application/vnd.jupyter.widget-view+json": {
       "model_id": "3eae4ba78c92487ea45bc5de9704837d",
       "version_major": 2,
       "version_minor": 0
      },
      "text/plain": [
       "Image(value=b'', format='jpeg', height='300', width='300')"
      ]
     },
     "metadata": {},
     "output_type": "display_data"
    },
    {
     "data": {
      "application/vnd.jupyter.widget-view+json": {
       "model_id": "dc0c7f42411e4715aacb8eff68ab3ae9",
       "version_major": 2,
       "version_minor": 0
      },
      "text/plain": [
       "Image(value=b'', format='jpeg', height='300', width='300')"
      ]
     },
     "metadata": {},
     "output_type": "display_data"
    },
    {
     "data": {
      "application/vnd.jupyter.widget-view+json": {
       "model_id": "1087a90506bb444c83497186fe89085f",
       "version_major": 2,
       "version_minor": 0
      },
      "text/plain": [
       "Image(value=b'', format='jpeg', height='300', width='300')"
      ]
     },
     "metadata": {},
     "output_type": "display_data"
    }
   ],
   "source": [
    "import traitlets\n",
    "import ipywidgets.widgets as widgets\n",
    "from IPython.display import display\n",
    "face_image = widgets.Image(format='jpeg', width=300, height=300)\n",
    "face_image2 = widgets.Image(format='jpeg', width=300, height=300)\n",
    "face_image3 = widgets.Image(format='jpeg', width=300, height=300)\n",
    "display(face_image)\n",
    "display(face_image2)\n",
    "\n",
    "display(face_image3)\n",
    "\n"
   ]
  },
  {
   "cell_type": "code",
   "execution_count": null,
   "metadata": {},
   "outputs": [],
   "source": [
    "import cv2\n",
    "import numpy as np\n",
    "#import rect\n",
    "\n",
    "def transform(img, mp, dp):\n",
    "    \"\"\"\n",
    "    透视变换，mp：原图像点， dp：目标图像点\n",
    "    \"\"\"\n",
    "    global x\n",
    "    global y\n",
    "    # 修改点的格式\n",
    "    pts1 = np.float32(mp)\n",
    "    pts2 = np.float32(dp)\n",
    "     \n",
    "\n",
    "    M = cv2.getPerspectiveTransform(pts1, pts2)\n",
    "\n",
    "    dst = cv2.warpPerspective(img, M, (x, y))\n",
    "    return dst\n",
    " \n",
    " \n",
    "def enhance(img):\n",
    "\n",
    "    dst = cv2.cvtColor(img, cv2.COLOR_BGR2GRAY)\n",
    "    th = cv2.adaptiveThreshold(dst, 255, cv2.ADAPTIVE_THRESH_MEAN_C, cv2.THRESH_BINARY, 11, 5)\n",
    "    return th\n",
    " \n",
    "\n",
    "\n",
    "while 1:\n",
    "    frame = camera.value\n",
    "    frame = cv2.resize(frame, (300, 300))\n",
    "    \n",
    "    image = frame.copy()\n",
    "    gray = cv2.cvtColor(image, cv2.COLOR_BGR2GRAY)\n",
    "    blurred = cv2.GaussianBlur(gray, (5, 5), 0)\n",
    "    #使用canny算法进行边缘检测\n",
    "    edged = cv2.Canny(blurred,0,50)\n",
    "    orig_edged = edged.copy()\n",
    "    contours, hierarchy = cv2.findContours(edged, cv2.RETR_LIST, cv2.CHAIN_APPROX_NONE)\n",
    "    contours = sorted(contours, key = cv2.contourArea, reverse = True)\n",
    "\n",
    "    for c in contours:\n",
    "        p = cv2.arcLength(c, True)   #计算封闭轮廓的周长或者曲线的长度\n",
    "        approx = cv2.approxPolyDP(c, 0.02*p, True)  #指定0.02*p精度逼近多边形曲线，这种近似曲线为闭合曲线,因此参数closed为True\n",
    "\n",
    "        if len(approx) == 4:    #如果逼近的是四边形\n",
    "            target = approx     #则此轮廓为要找的轮廓\n",
    "            break               #找到即跳出循环\n",
    "    image_or = image.copy()\n",
    "    #cv2.drawContours(image, [target], -1, (0, 255, 0), 2)\n",
    "    cv2.polylines(image, [target], True, (0, 255, 0), 3)\n",
    "    \n",
    "    if target[0,0,0] > target[1,0,0]:\n",
    "        target = target = target[[1,2,3,0]]\n",
    "    \n",
    "    x = 300\n",
    "    y = 300 \n",
    "    src = image.copy()\n",
    "    src2 = image.copy()\n",
    "\n",
    "    mp = [i[0] for i in target]\n",
    "    dx = 8\n",
    "    dp = [[dx, y-dx], [x-dx, y-dx], [x-dx, dx], [dx, dx]]\n",
    "    docimg = transform(src, mp, dp)\n",
    "    \n",
    "    \n",
    "    image_final = transform(frame, mp, dp)\n",
    "    \n",
    "    image_or = transform(src2, mp, dp)\n",
    "    docimg2 = enhance(docimg)\n",
    "    \n",
    "    face_image.value = bgr8_to_jpeg(image)\n",
    "    face_image2.value =  bgr8_to_jpeg(image_final)\n",
    "    face_image3.value =  bgr8_to_jpeg(docimg2)\n"
   ]
  },
  {
   "cell_type": "code",
   "execution_count": 72,
   "metadata": {},
   "outputs": [],
   "source": [
    "\n",
    "frame = camera.value\n",
    "frame = cv2.resize(frame, (300, 300))\n",
    "\n",
    "image = frame.copy()\n",
    "gray = cv2.cvtColor(image, cv2.COLOR_BGR2GRAY)\n",
    "blurred = cv2.GaussianBlur(gray, (5, 5), 0)\n",
    "#使用canny算法进行边缘检测\n",
    "edged = cv2.Canny(blurred,0,50)\n",
    "orig_edged = edged.copy()\n",
    "contours, hierarchy = cv2.findContours(edged, cv2.RETR_LIST, cv2.CHAIN_APPROX_NONE)\n",
    "contours = sorted(contours, key = cv2.contourArea, reverse = True)\n",
    "\n",
    "for c in contours:\n",
    "    p = cv2.arcLength(c, True)   #计算封闭轮廓的周长或者曲线的长度\n",
    "    approx = cv2.approxPolyDP(c, 0.02*p, True)  #指定0.02*p精度逼近多边形曲线，这种近似曲线为闭合曲线,因此参数closed为True\n",
    "\n",
    "    if len(approx) == 4:    #如果逼近的是四边形\n",
    "        target = approx     #则此轮廓为要找的轮廓\n",
    "        break               #找到即跳出循环\n",
    "image_or = image.copy()"
   ]
  },
  {
   "cell_type": "code",
   "execution_count": 73,
   "metadata": {},
   "outputs": [
    {
     "data": {
      "text/plain": [
       "array([[[ 96, 122]],\n",
       "\n",
       "       [[ 50, 247]],\n",
       "\n",
       "       [[141, 292]],\n",
       "\n",
       "       [[147, 128]]], dtype=int32)"
      ]
     },
     "execution_count": 73,
     "metadata": {},
     "output_type": "execute_result"
    }
   ],
   "source": [
    "target"
   ]
  },
  {
   "cell_type": "code",
   "execution_count": 74,
   "metadata": {},
   "outputs": [],
   "source": [
    "target = target[[2,3,0,1]]"
   ]
  },
  {
   "cell_type": "code",
   "execution_count": 75,
   "metadata": {},
   "outputs": [],
   "source": [
    "#cv2.drawContours(image, [target], -1, (0, 255, 0), 2)\n",
    "cv2.polylines(image, [target], True, (0, 255, 0), 3)\n",
    "\n",
    "\n",
    "x = 300\n",
    "y = 300 \n",
    "src = image.copy()\n",
    "src2 = image.copy()\n",
    "\n",
    "mp = [i[0] for i in target]\n",
    "dp = [[0, y], [x, y], [x, 0], [0, 0]]\n",
    "docimg = transform(src, mp, dp)\n",
    "\n",
    "image_or = transform(src2, mp, dp)\n",
    "docimg2 = enhance(docimg)\n",
    "\n",
    "face_image.value = bgr8_to_jpeg(image)\n",
    "face_image2.value =  bgr8_to_jpeg(image_or)\n",
    "face_image3.value =  bgr8_to_jpeg(docimg2)"
   ]
  },
  {
   "cell_type": "code",
   "execution_count": 76,
   "metadata": {},
   "outputs": [
    {
     "data": {
      "application/vnd.jupyter.widget-view+json": {
       "model_id": "9861648b2edb4b88bd6e2b9727f9b67a",
       "version_major": 2,
       "version_minor": 0
      },
      "text/plain": [
       "Image(value=b'\\xff\\xd8\\xff\\xe0\\x00\\x10JFIF\\x00\\x01\\x01\\x00\\x00\\x01\\x00\\x01\\x00\\x00\\xff\\xdb\\x00C\\x00\\x02\\x01\\x0…"
      ]
     },
     "metadata": {},
     "output_type": "display_data"
    }
   ],
   "source": [
    "display(face_image3)"
   ]
  },
  {
   "cell_type": "code",
   "execution_count": 77,
   "metadata": {},
   "outputs": [
    {
     "data": {
      "text/plain": [
       "[array([141, 292], dtype=int32),\n",
       " array([147, 128], dtype=int32),\n",
       " array([ 96, 122], dtype=int32),\n",
       " array([ 50, 247], dtype=int32)]"
      ]
     },
     "execution_count": 77,
     "metadata": {},
     "output_type": "execute_result"
    }
   ],
   "source": [
    "mp"
   ]
  },
  {
   "cell_type": "code",
   "execution_count": 43,
   "metadata": {},
   "outputs": [
    {
     "data": {
      "text/plain": [
       "array([ 81, 250], dtype=int32)"
      ]
     },
     "execution_count": 43,
     "metadata": {},
     "output_type": "execute_result"
    }
   ],
   "source": [
    "target[0,0]"
   ]
  },
  {
   "cell_type": "code",
   "execution_count": 46,
   "metadata": {},
   "outputs": [
    {
     "data": {
      "text/plain": [
       "array([[[163, 159]],\n",
       "\n",
       "       [[167, 216]],\n",
       "\n",
       "       [[299, 296]],\n",
       "\n",
       "       [[168, 217]]], dtype=int32)"
      ]
     },
     "execution_count": 46,
     "metadata": {},
     "output_type": "execute_result"
    }
   ],
   "source": [
    "target"
   ]
  },
  {
   "cell_type": "code",
   "execution_count": 47,
   "metadata": {},
   "outputs": [
    {
     "data": {
      "text/plain": [
       "array([[163, 159]], dtype=int32)"
      ]
     },
     "execution_count": 47,
     "metadata": {},
     "output_type": "execute_result"
    }
   ],
   "source": [
    "target[0]"
   ]
  },
  {
   "cell_type": "code",
   "execution_count": null,
   "metadata": {},
   "outputs": [],
   "source": []
  }
 ],
 "metadata": {
  "kernelspec": {
   "display_name": "Python 3",
   "language": "python",
   "name": "python3"
  },
  "language_info": {
   "codemirror_mode": {
    "name": "ipython",
    "version": 3
   },
   "file_extension": ".py",
   "mimetype": "text/x-python",
   "name": "python",
   "nbconvert_exporter": "python",
   "pygments_lexer": "ipython3",
   "version": "3.6.9"
  }
 },
 "nbformat": 4,
 "nbformat_minor": 4
}
